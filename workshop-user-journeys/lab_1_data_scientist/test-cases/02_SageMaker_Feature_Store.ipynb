{
 "cells": [
  {
   "cell_type": "markdown",
   "id": "4b43513c-5b7d-43fa-a52b-58cc0269b17d",
   "metadata": {},
   "source": [
    "# Install dependencies"
   ]
  },
  {
   "cell_type": "code",
   "execution_count": null,
   "id": "ecd38eb1-5b39-4007-a64b-1a78c50726f9",
   "metadata": {},
   "outputs": [],
   "source": [
    "%pip install -U -r requirements.txt"
   ]
  },
  {
   "cell_type": "markdown",
   "id": "99d9b710-34b7-4223-a42c-f39fabc8cea0",
   "metadata": {},
   "source": [
    "# Import SageMaker Defaults Configurations\n",
    "\n",
    "The Amazon SageMaker Python SDK supports setting of default values for AWS infrastructure primitive types, such as instance types, Amazon S3 folder locations, and IAM roles. You can override the default locations of these files by setting the `SAGEMAKER_USER_CONFIG_OVERRIDE` environment variables for the user-defined configuration file paths."
   ]
  },
  {
   "cell_type": "code",
   "execution_count": null,
   "id": "b532bf10-e09d-4db9-89bc-075f43127781",
   "metadata": {},
   "outputs": [],
   "source": [
    "import os\n",
    "\n",
    "# Use the current working directory as the location for SageMaker Python SDK config file\n",
    "os.environ[\"SAGEMAKER_USER_CONFIG_OVERRIDE\"] = os.getcwd()"
   ]
  },
  {
   "cell_type": "markdown",
   "id": "b97fa9c2-5286-4352-91f6-ef4e8cb9336f",
   "metadata": {},
   "source": [
    "# Download dataset\n",
    "\n",
    "Download the dataset from the UCI website."
   ]
  },
  {
   "cell_type": "code",
   "execution_count": null,
   "id": "2a879f4d-dbc6-4059-95c9-c663d679dc4b",
   "metadata": {},
   "outputs": [],
   "source": [
    "import urllib\n",
    "import os\n",
    "\n",
    "input_data_dir = 'data/'\n",
    "if not os.path.exists(input_data_dir):\n",
    "    os.makedirs(input_data_dir)\n",
    "input_data_path = os.path.join(input_data_dir, 'predictive_maintenance_raw_data_header.csv')\n",
    "dataset_url = \"https://archive.ics.uci.edu/ml/machine-learning-databases/00601/ai4i2020.csv\"\n",
    "urllib.request.urlretrieve(dataset_url, input_data_path)"
   ]
  },
  {
   "cell_type": "code",
   "execution_count": null,
   "id": "6a696576-4402-4eb7-a0ba-fce791452037",
   "metadata": {},
   "outputs": [],
   "source": [
    "import pandas as pd\n",
    "import warnings\n",
    "warnings.filterwarnings(\"ignore\")\n",
    "\n",
    "df = pd.read_csv(input_data_path)\n",
    "\n",
    "print('The shape of the dataset is:', df.shape)"
   ]
  },
  {
   "cell_type": "markdown",
   "id": "a3577869-e29d-4b19-b971-c15b32504ee8",
   "metadata": {},
   "source": [
    "# Test case 1: Register features in feature store\n",
    "\n",
    "## Expected result: Features should be registered"
   ]
  },
  {
   "cell_type": "code",
   "execution_count": null,
   "id": "919d2de0-c386-4549-8c9d-b0173e4238f7",
   "metadata": {},
   "outputs": [],
   "source": [
    "import sagemaker\n",
    "import boto3\n",
    "import sys\n",
    "import pandas as pd\n",
    "import numpy as np\n",
    "import io\n",
    "from sagemaker.session import Session\n",
    "from sagemaker import get_execution_role\n",
    "\n",
    "prefix = \"sagemaker-featurestore-introduction\"\n",
    "role = get_execution_role()\n",
    "\n",
    "sagemaker_session = sagemaker.Session()\n",
    "region = sagemaker_session.boto_region_name\n",
    "s3_bucket_name = sagemaker_session.default_bucket()"
   ]
  },
  {
   "cell_type": "code",
   "execution_count": null,
   "id": "c2e336f9-5dc3-4dd7-9e84-96d457dcae8b",
   "metadata": {},
   "outputs": [],
   "source": [
    "df_copy = df"
   ]
  },
  {
   "cell_type": "code",
   "execution_count": null,
   "id": "bec05d45-7159-414f-938c-2ec186e4b3c3",
   "metadata": {},
   "outputs": [],
   "source": [
    "columns = ['Type', 'Air temperature [K]', 'Process temperature [K]', 'Rotational speed [rpm]', 'Torque [Nm]', 'Tool wear [min]', 'Machine failure']\n",
    "\n",
    "new_columns = [col.replace('[', '').replace(']', '').replace(' ', '_') for col in df.columns]\n",
    "df_copy.columns = new_columns\n",
    "\n",
    "df_copy.head()"
   ]
  },
  {
   "cell_type": "markdown",
   "id": "8e2b1218-1763-4679-9d42-923a7b33cae0",
   "metadata": {},
   "source": [
    "## Test case 1a: Create a Feature Group\n",
    "\n",
    "### Expected result: A new feature group should be created"
   ]
  },
  {
   "cell_type": "code",
   "execution_count": null,
   "id": "bf3f376d-c40c-4172-b37c-1e35c68b548f",
   "metadata": {},
   "outputs": [],
   "source": [
    "from time import gmtime, strftime, sleep\n",
    "\n",
    "product_id_feature_group_name = \"product-id-feature-group-\" + strftime(\"%d-%H-%M-%S\", gmtime())"
   ]
  },
  {
   "cell_type": "code",
   "execution_count": null,
   "id": "42316905-ab1e-4a1b-ab2e-44e01c9ca9d6",
   "metadata": {},
   "outputs": [],
   "source": [
    "from sagemaker.feature_store.feature_group import FeatureGroup\n",
    "\n",
    "product_id_feature_group = FeatureGroup(\n",
    "    name=product_id_feature_group_name, sagemaker_session=sagemaker_session\n",
    ")"
   ]
  },
  {
   "cell_type": "markdown",
   "id": "d92b9d85-68a5-46fb-987c-cc9228757232",
   "metadata": {},
   "source": [
    "## Test case 2b: Create a Feature Group definition\n",
    "\n",
    "### Expected result: A new feature group definition from the dataset should be created"
   ]
  },
  {
   "cell_type": "code",
   "execution_count": null,
   "id": "11d8b6cf-aab6-49b0-be54-863e1f7ea7b7",
   "metadata": {},
   "outputs": [],
   "source": [
    "import time\n",
    "\n",
    "current_time_sec = int(round(time.time()))\n",
    "\n",
    "record_identifier_feature_name = \"Product_ID\""
   ]
  },
  {
   "cell_type": "markdown",
   "id": "e0ed7437-006c-43f4-b486-a8863567a432",
   "metadata": {},
   "source": [
    "Append `EventTime` feature to your data frame. This parameter is required, and time stamps each data point."
   ]
  },
  {
   "cell_type": "code",
   "execution_count": null,
   "id": "b8d571b4-66e5-4a5e-89bb-c45858570ebd",
   "metadata": {},
   "outputs": [],
   "source": [
    "df_copy[\"EventTime\"] = pd.Series([current_time_sec] * len(df_copy), dtype=\"float64\")\n",
    "\n",
    "df_copy.head()"
   ]
  },
  {
   "cell_type": "code",
   "execution_count": null,
   "id": "f3982de2-72c5-4552-8f57-65943476786d",
   "metadata": {},
   "outputs": [],
   "source": [
    "product_id_feature_group.load_feature_definitions(data_frame=df_copy)"
   ]
  },
  {
   "cell_type": "markdown",
   "id": "63aefb90-6256-44f2-a6a4-903c2af7c95b",
   "metadata": {},
   "source": [
    "Below we call create to create the feature group"
   ]
  },
  {
   "cell_type": "code",
   "execution_count": null,
   "id": "600470f6-f8df-4121-8314-0678f99e321c",
   "metadata": {},
   "outputs": [],
   "source": [
    "product_id_feature_group.create(\n",
    "    s3_uri=f\"s3://{s3_bucket_name}/{prefix}\",\n",
    "    record_identifier_name=record_identifier_feature_name,\n",
    "    event_time_feature_name=\"EventTime\",\n",
    "    role_arn=role,\n",
    "    enable_online_store=True,\n",
    ")"
   ]
  }
 ],
 "metadata": {
  "kernelspec": {
   "display_name": "Python 3 (ipykernel)",
   "language": "python",
   "name": "python3"
  },
  "language_info": {
   "codemirror_mode": {
    "name": "ipython",
    "version": 3
   },
   "file_extension": ".py",
   "mimetype": "text/x-python",
   "name": "python",
   "nbconvert_exporter": "python",
   "pygments_lexer": "ipython3",
   "version": "3.10.14"
  }
 },
 "nbformat": 4,
 "nbformat_minor": 5
}
